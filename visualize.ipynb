{
 "cells": [
  {
   "cell_type": "code",
   "execution_count": 1,
   "metadata": {
    "collapsed": false
   },
   "outputs": [],
   "source": [
    "import numpy as np\n",
    "%matplotlib inline\n",
    "import matplotlib\n",
    "import matplotlib.pyplot as plt\n",
    "import matplotlib.cm as cm\n",
    "import pandas as pd\n",
    "import glob\n",
    "import fnmatch\n",
    "import os\n",
    "import SimpleITK as sitk"
   ]
  },
  {
   "cell_type": "markdown",
   "metadata": {},
   "source": [
    "# ANNOTATIONS\n",
    "\n",
    "The annotation file is a csv file that contains one finding per line. Each line holds the SeriesInstanceUID of the scan, the x, y, and z position of each finding in world coordinates; and the corresponding diameter in mm. The annotation file contains 1186 nodules.\n",
    "\n",
    "The list of annotations that are not used as reference standard will be provided. Each line holds the SeriesInstanceUID of the scan, the x, y, and z position of each finding in world coordinates; and the corresponding diameter in mm. It has to be noted that findings that were annotated as nodule < 3 mm and non-nodule have no diameter measurement."
   ]
  },
  {
   "cell_type": "code",
   "execution_count": 2,
   "metadata": {
    "collapsed": false,
    "scrolled": true
   },
   "outputs": [
    {
     "name": "stdout",
     "output_type": "stream",
     "text": [
      "(1186, 5)\n"
     ]
    }
   ],
   "source": [
    "annotations = pd.read_csv(\"/home/msmith/luna16/CSVFILES/annotations.csv\")\n",
    "annotations.head()\n",
    "print(annotations.shape)"
   ]
  },
  {
   "cell_type": "code",
   "execution_count": 42,
   "metadata": {
    "collapsed": true
   },
   "outputs": [],
   "source": [
    "# Some Functions\n",
    "def getPathSeriesuid(seriesuid):\n",
    "    pattern = '*'+seriesuid+'*'\n",
    "    for roots, dirs, files in os.walk('/home/msmith/luna16/'):\n",
    "            for filename in fnmatch.filter(files,pattern):\n",
    "                returnPath = os.path.join(roots,filename)\n",
    "                #print(returnPath)\n",
    "    return returnPath\n",
    "\n",
    "def getAnnotationsFullPathCSV():\n",
    "    # Includes full path of files in final column\n",
    "    annotations[\"serisuidComplete\"] = annotations[\"seriesuid\"].apply(getPathSeriesuid) # Get complete paths of files (takes a while)\n",
    "    annotations.to_csv(\"/CSVFILES/annotationsFullPaths.csv\",index=0)\n",
    "\n",
    "def load_itk_image(filename):\n",
    "    itkimage = sitk.ReadImage(filename)\n",
    "    numpyImage = sitk.GetArrayFromImage(itkimage)\n",
    "    numpyOrigin = np.array(list(reversed(itkimage.GetOrigin())))\n",
    "    numpySpacing = np.array(list(reversed(itkimage.GetSpacing())))\n",
    "    return numpyImage, numpyOrigin, numpySpacing\n",
    "\n",
    "'''\n",
    "def load_itk_image(filename):\n",
    "    itkimage = sitk.ReadImage(filename)\n",
    "    numpyImage = sitk.GetArrayFromImage(itkimage)\n",
    "    numpyOrigin = np.array(list(itkimage.GetOrigin()))\n",
    "    numpySpacing = np.array(list(itkimage.GetSpacing()))\n",
    "    return numpyImage, numpyOrigin, numpySpacing\n",
    "'''\n",
    "\n",
    "def worldToVoxelCoord(worldCoord, origin, spacing):\n",
    "    stretchedVoxelCoord = np.absolute(worldCoord - origin)\n",
    "    voxelCoord = stretchedVoxelCoord / spacing\n",
    "    return voxelCoord"
   ]
  },
  {
   "cell_type": "code",
   "execution_count": 64,
   "metadata": {
    "collapsed": false
   },
   "outputs": [],
   "source": [
    "ofInterest = annotations[annotations[\"seriesuid\"].str.contains(\"1.3.6.1.4.1.14519.5.2.1.6279.6001.134996872583497382954024478441\")]"
   ]
  },
  {
   "cell_type": "code",
   "execution_count": 9,
   "metadata": {
    "collapsed": false,
    "scrolled": false
   },
   "outputs": [
    {
     "name": "stdout",
     "output_type": "stream",
     "text": [
      "('Using observation', 130)\n",
      "seriesuid      1.3.6.1.4.1.14519.5.2.1.6279.6001.134996872583...\n",
      "coordX                                                  -70.3231\n",
      "coordY                                                  56.20438\n",
      "coordZ                                                 -82.47946\n",
      "diameter_mm                                             7.888814\n",
      "Name: 130, dtype: object\n",
      "====================================================================================================\n",
      "====================================================================================================\n",
      "ObjectType = Image\n",
      "NDims = 3\n",
      "BinaryData = True\n",
      "BinaryDataByteOrderMSB = False\n",
      "CompressedData = False\n",
      "TransformMatrix = 1 0 0 0 1 0 0 0 1\n",
      "Offset = -238.10000600000001 -220 -273.25\n",
      "CenterOfRotation = 0 0 0\n",
      "AnatomicalOrientation = RAI\n",
      "ElementSpacing = 0.859375 0.859375 1.25\n",
      "DimSize = 512 512 197\n",
      "ElementType = MET_SHORT\n",
      "ElementDataFile = 1.3.6.1.4.1.14519.5.2.1.6279.6001.134996872583497382954024478441.raw\n",
      "\n"
     ]
    }
   ],
   "source": [
    "# Get random annotation from list\n",
    "#randInt = np.random.randint(annotations.shape[0])\n",
    "randInt = 130\n",
    "randAnnotation = annotations.iloc[randInt]\n",
    "\n",
    "noduleCoords = randAnnotation['coordX'],randAnnotation['coordY'],randAnnotation['coordZ']\n",
    "pattern = '*'+randAnnotation['seriesuid']+'*'\n",
    "\n",
    "imgPath = getPathSeriesuid(pattern)\n",
    "rawPath = imgPath[:-3] + 'raw'\n",
    "img = np.fromfile(rawPath,dtype='int16')\n",
    "with open(imgPath[:-3] + 'mhd',\"r\") as f:\n",
    "    imgData = f.read()\n",
    "    mhdPath = rawPath[:-3] + 'mhd'\n",
    "    \n",
    "img, imgOrigin, imgSpacing = load_itk_image(mhdPath)\n",
    "\n",
    "def printInfo():\n",
    "    print(\"Using observation\", randInt)\n",
    "    print(randAnnotation)\n",
    "    print(\"==\"*50)\n",
    "    print(\"==\"*50)\n",
    "    print(imgData)\n",
    "    annotations[randInt:randInt+1]\n",
    "printInfo()"
   ]
  },
  {
   "cell_type": "code",
   "execution_count": null,
   "metadata": {
    "collapsed": false
   },
   "outputs": [],
   "source": [
    "# Nodule voxel coordinates (nvc)\n",
    "nvc = worldToVoxelCoord(noduleCoords[::-1],imgOrigin,imgSpacing)\n",
    "nvc = np.array(nvc.astype(int))\n",
    "\n",
    "#Get a range in which to subset the data\n",
    "margin = 50\n",
    "nvcMinus,nvcPlus = (nvc - margin).astype(int), (nvc + margin).astype(int)\n",
    "def printNoduleInfo():\n",
    "    print(\"Image shape ==>\" + \"\\n\" + str(img.shape))\n",
    "    print(\"Nodule coordinates @\"+\"\\n\" + str(nvc))\n",
    "    print(\"NVC margins ==>\" + \"\\n\" + str(nvcMinus) + \"\\n\" + str(nvcPlus))"
   ]
  },
  {
   "cell_type": "code",
   "execution_count": null,
   "metadata": {
    "collapsed": false
   },
   "outputs": [],
   "source": [
    "from matplotlib.patches import Rectangle\n",
    "rectangle = plt.Rectangle((nvcMinus[2], nvcMinus[1]),margin*2 ,margin*2, facecolor = 'none', ec='r')\n",
    "circle = plt.Circle((nvc[2],nvc[1]),10, facecolor = 'none', ec='r')\n",
    "plt.gca().add_patch(rectangle)\n",
    "plt.gca().add_patch(circle)\n",
    "plt.imshow(img[nvc[0]],cmap=cm.gray)\n",
    "plt.show()\n"
   ]
  },
  {
   "cell_type": "code",
   "execution_count": null,
   "metadata": {
    "collapsed": false,
    "scrolled": false
   },
   "outputs": [],
   "source": [
    "for i in xrange(nvcMinus[0],nvcPlus[0],10):\n",
    "    if i == nvc[0]:\n",
    "        print(\"Nodule located here\")\n",
    "    print(i)\n",
    "    plt.imshow(img[i,nvcMinus[1]:nvcPlus[1],nvcMinus[2]:nvcPlus[2]],cmap=cm.gray)\n",
    "    plt.show()"
   ]
  },
  {
   "cell_type": "code",
   "execution_count": null,
   "metadata": {
    "collapsed": false
   },
   "outputs": [],
   "source": [
    "voxels = img.flatten().shape[0]"
   ]
  },
  {
   "cell_type": "code",
   "execution_count": null,
   "metadata": {
    "collapsed": false
   },
   "outputs": [],
   "source": [
    "plt.hist(img.flatten())\n",
    "plt.show()"
   ]
  },
  {
   "cell_type": "code",
   "execution_count": null,
   "metadata": {
    "collapsed": false
   },
   "outputs": [],
   "source": [
    "#img1 = np.clip(img[59,180:220,140:180],-1000,-600)\n",
    "img1 = img[59,180:220,140:180]\n",
    "plt.hist(img1.flatten())\n",
    "plt.show()"
   ]
  },
  {
   "cell_type": "code",
   "execution_count": null,
   "metadata": {
    "collapsed": true
   },
   "outputs": [],
   "source": [
    "img2 = np.clip(img1,-1000,-800)"
   ]
  },
  {
   "cell_type": "code",
   "execution_count": null,
   "metadata": {
    "collapsed": false
   },
   "outputs": [],
   "source": [
    "from mpl_toolkits.mplot3d import Axes3D"
   ]
  },
  {
   "cell_type": "code",
   "execution_count": null,
   "metadata": {
    "collapsed": false
   },
   "outputs": [],
   "source": [
    "x,y = np.arange(0,img1.shape[0],1),np.arange(0,img2.shape[0],1)"
   ]
  },
  {
   "cell_type": "code",
   "execution_count": null,
   "metadata": {
    "collapsed": false
   },
   "outputs": [],
   "source": [
    "x,y = np.meshgrid(x,y)"
   ]
  },
  {
   "cell_type": "code",
   "execution_count": null,
   "metadata": {
    "collapsed": false
   },
   "outputs": [],
   "source": [
    "fig = plt.figure()\n",
    "ax = fig.gca(projection='3d')\n",
    "ax.plot_surface(x,y,img1)"
   ]
  },
  {
   "cell_type": "code",
   "execution_count": null,
   "metadata": {
    "collapsed": false,
    "scrolled": true
   },
   "outputs": [],
   "source": [
    "\n",
    "x = noduleVoxelCoords[0]\n",
    "y = noduleVoxelCoords[1]\n",
    "z = noduleVoxelCoords[2]\n",
    "for a in range(55,66,1):\n",
    "    plt.figure(figsize=(7,7))\n",
    "    img1=img[a,180:220,140:180]\n",
    "    plt.imshow(np.clip(img1,-1000,-500),cmap=cm.gray)\n",
    "    plt.show()"
   ]
  },
  {
   "cell_type": "code",
   "execution_count": null,
   "metadata": {
    "collapsed": false
   },
   "outputs": [],
   "source": [
    "from scipy.interpolate import RegularGridInterpolator"
   ]
  },
  {
   "cell_type": "code",
   "execution_count": null,
   "metadata": {
    "collapsed": false
   },
   "outputs": [],
   "source": [
    "# Get a 3D image eg. subset of img\n",
    "subsetSize = 20\n",
    "img3 = img[:subsetSize,:subsetSize,:subsetSize]\n",
    "x,y,z = np.arange(subsetSize),np.arange(subsetSize),np.arange(subsetSize)\n",
    "interpolator = RegularGridInterpolator((x,y,z),img3,bounds_error=False,fill_value=img3.mean())"
   ]
  },
  {
   "cell_type": "code",
   "execution_count": null,
   "metadata": {
    "collapsed": false
   },
   "outputs": [],
   "source": [
    "interpolator"
   ]
  },
  {
   "cell_type": "markdown",
   "metadata": {},
   "source": [
    "# CANDIDATES\n",
    "\n",
    "The candidates file is a csv file that contains nodule candidate per line. Each line holds the scan name, the x, y, and z position of each candidate in world coordinates, and the corresponding class. The list of candidates is provided for participants who are following the ‘false positive reduction’ track. Tutorial on how to view lesions given the location of candidates will be available on the Forum page.\n",
    "\n",
    "The candidate locations are computed using three existing candidate detection algorithms [1-3]. As lesions can be detected by multiple candidates, those that are located <= 5 mm are merged. Using this method, 1120 out of 1186 nodules are detected with 551,065 false positives. For convenience, the corresponding class label (0 for non-nodule and 1 for nodule) for each candidate is provided in the list. It has to be noted that there can be multiple candidates per nodule."
   ]
  },
  {
   "cell_type": "code",
   "execution_count": null,
   "metadata": {
    "collapsed": false
   },
   "outputs": [],
   "source": [
    "candidates = pd.read_csv(\"/home/msmith/luna16/CSVFILES/candidates.csv\")\n",
    "candidatesClass = candidates['class']\n",
    "candidatesClass.hist(bins=2)\n",
    "propClass1 = candidatesClass[candidatesClass==1].sum()/float(candidatesClass.size)\n",
    "plt.title(\"Candidates class count. Proportion class 1 = \"+str(propClass1))\n",
    "plt.show()"
   ]
  }
 ],
 "metadata": {
  "kernelspec": {
   "display_name": "Python 2",
   "language": "python",
   "name": "python2"
  },
  "language_info": {
   "codemirror_mode": {
    "name": "ipython",
    "version": 2
   },
   "file_extension": ".py",
   "mimetype": "text/x-python",
   "name": "python",
   "nbconvert_exporter": "python",
   "pygments_lexer": "ipython2",
   "version": "2.7.6"
  }
 },
 "nbformat": 4,
 "nbformat_minor": 0
}
