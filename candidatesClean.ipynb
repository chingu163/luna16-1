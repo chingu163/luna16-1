{
 "cells": [
  {
   "cell_type": "markdown",
   "metadata": {},
   "source": [
    "# CANDIDATES\n",
    "\n",
    "The candidates file is a csv file that contains nodule candidate per line. Each line holds the scan name, the x, y, and z position of each candidate in world coordinates, and the corresponding class. The list of candidates is provided for participants who are following the ‘false positive reduction’ track. Tutorial on how to view lesions given the location of candidates will be available on the Forum page.\n",
    "\n",
    "The candidate locations are computed using three existing candidate detection algorithms [1-3]. As lesions can be detected by multiple candidates, those that are located <= 5 mm are merged. Using this method, 1120 out of 1186 nodules are detected with 551,065 false positives. For convenience, the corresponding class label (0 for non-nodule and 1 for nodule) for each candidate is provided in the list. It has to be noted that there can be multiple candidates per nodule."
   ]
  },
  {
   "cell_type": "code",
   "execution_count": 1,
   "metadata": {
    "collapsed": false
   },
   "outputs": [],
   "source": [
    "import numpy as np\n",
    "%matplotlib inline\n",
    "import matplotlib\n",
    "import matplotlib.pyplot as plt\n",
    "import matplotlib.cm as cm\n",
    "import pandas as pd\n",
    "import glob\n",
    "import fnmatch\n",
    "import os\n",
    "import SimpleITK as sitk\n",
    "import time\n",
    "from matplotlib.patches import Rectangle\n",
    "pd.options.display.max_colwidth = 100"
   ]
  },
  {
   "cell_type": "code",
   "execution_count": null,
   "metadata": {
    "collapsed": false
   },
   "outputs": [],
   "source": [
    "def findFullPaths(candidates):\n",
    "    #candidates[\"seriesuidFullPaths\"] = \"toFind\" # New column with new paths to find\n",
    "    candidates = pd.read_csv(\"/home/msmith/luna16/CSVFILES/candidates.csv\")\n",
    "    include = [\"subset\" + str(i) for i in xrange(10)]\n",
    "    directories = []\n",
    "    for roots, dirs, files in os.walk('/home/msmith/luna16/',topdown=True):\n",
    "            dirs[:] = [d for d in dirs if d in include]\n",
    "            for d in dirs:\n",
    "                directories.append(os.path.abspath(d))  \n",
    "    fullPaths = []\n",
    "    for directory in directories:\n",
    "        for _,_,files in os.walk(directory):\n",
    "            for x in files:\n",
    "                fullPaths.append(os.path.abspath(os.path.join(directory,x)))\n",
    "\n",
    "    rawPaths = [path for path in fullPaths if \".raw\" in path]\n",
    "    fullPath = lambda seriesuid: [s for s in rawPaths if seriesuid in s][0]\n",
    "    candidates[\"seriesuidFullPath\"] = candidates.seriesuid.apply(fullPath)\n",
    "    #candidates.to_csv(\"/home/msmith/luna16/CSVFILES/candidatesFP.csv\")"
   ]
  },
  {
   "cell_type": "code",
   "execution_count": 2,
   "metadata": {
    "collapsed": false
   },
   "outputs": [],
   "source": [
    "# Now to find voxel coords\n",
    "def load_originSpacing(filename):\n",
    "    itkimage = sitk.ReadImage(filename)\n",
    "    numpyOrigin = np.array(list(reversed(itkimage.GetOrigin())))\n",
    "    numpySpacing = np.array(list(reversed(itkimage.GetSpacing())))\n",
    "    return numpyOrigin, numpySpacing\n",
    "\n",
    "def worldToVoxelCoord(worldCoord, origin, spacing):\n",
    "    stretchedVoxelCoord = np.absolute(worldCoord - origin)\n",
    "    voxelCoord = stretchedVoxelCoord / spacing\n",
    "    return voxelCoord\n",
    "\n",
    "def getNVCmhd(row): # Much faster\n",
    "    mhdPath = row[\"seriesuidFullPath\"].replace(\".raw\",\".mhd\")\n",
    "    with open(mhdPath,\"r\") as f:\n",
    "        metaData = f.read()\n",
    "        metaDataSplit = metaData.split(\"\\n\")\n",
    "        imgOrigin = np.array(metaDataSplit[6].split(\" \")[-3:]).astype(float)[::-1]\n",
    "        imgSpacing = np.array(metaDataSplit[9].split(\" \")[-3:]).astype(float)[::-1]\n",
    "\n",
    "    noduleCoords = row['coordX'],row['coordY'],row['coordZ']\n",
    "    noduleCoords = noduleCoords[::-1]\n",
    "    nvc = worldToVoxelCoord(noduleCoords,imgOrigin,imgSpacing)\n",
    "    nvc = np.array(nvc.astype(int))\n",
    "    return np.array([nvc, imgSpacing])\n",
    "\n",
    "def getSpacing(row):\n",
    "    mhdPath = row[\"seriesuidFullPath\"].replace(\".raw\",\".mhd\")\n",
    "    _, imgSpacing = load_originSpacing(mhdPath)\n",
    "    return imgSpacing\n"
   ]
  },
  {
   "cell_type": "code",
   "execution_count": 4,
   "metadata": {
    "collapsed": false,
    "scrolled": true
   },
   "outputs": [],
   "source": [
    "# Add voxel coords and spacing to original data set\n",
    "def addVoxSpacing():\n",
    "    candidates = pd.read_csv(\"/home/msmith/luna16/CSVFILES/candidatesFP.csv\")\n",
    "    candidates.rename(columns={'class':'Class'}, inplace=True)\n",
    "    data = candidates\n",
    "    start = time.clock()\n",
    "    nObs = data.shape[0]\n",
    "    xyz = data.apply(lambda row: pd.Series( dict(zip([\"z\",\"y\",\"x\",\"spacingZ\",\"spacingY\",\"spacingX\"],getNVCmhd(row).flatten()))), axis=1)\n",
    "    data = data.merge(xyz,left_index=True,right_index=True)\n",
    "    end = time.clock()\n",
    "    print(\"Time taken =\", end-start)\n",
    "    data.to_csv(\"/home/msmith/luna16/CSVFILES/candidatesFPNVC.csv\")\n",
    "    #data"
   ]
  },
  {
   "cell_type": "code",
   "execution_count": 2,
   "metadata": {
    "collapsed": false
   },
   "outputs": [],
   "source": [
    "candidates = pd.read_csv(\"/home/msmith/luna16/CSVFILES/candidatesFPNVC.csv\")\n",
    "candidatesSub = candidates[[\"seriesuidFullPath\",\"Class\",\"spacingX\",\"spacingY\",\"spacingZ\",\"x\",\"y\",\"z\"]]\n",
    "#candidatesSub.to_csv(\"/home/msmith/luna16/CSVFILES/candidatesCleaned.csv\",index=0)"
   ]
  },
  {
   "cell_type": "code",
   "execution_count": 51,
   "metadata": {
    "collapsed": false
   },
   "outputs": [],
   "source": [
    "def trainTestSplit(data, splitPercentage):\n",
    "    nObs = data.shape[0]\n",
    "    idx = np.random.permutation(nObs)\n",
    "    split = 0.8\n",
    "    trainIdx, testIdx = np.split(idx,[len(idx)*splitPercentage])\n",
    "    isDisjoint = np.in1d(trainIdx,testIdx)\n",
    "    isDisjoint.sum()\n",
    "    train, test = data.iloc[trainIdx], data.iloc[testIdx]\n",
    "    print(\"Train/test class counts\")\n",
    "    print(\"Train ==> \",\"\\n\", train.Class.value_counts(normalize=1))\n",
    "    print(\"Test ==> \",\"\\n\", test.Class.value_counts(normalize=1))\n",
    "    return train,test"
   ]
  },
  {
   "cell_type": "code",
   "execution_count": 58,
   "metadata": {
    "collapsed": false
   },
   "outputs": [
    {
     "name": "stdout",
     "output_type": "stream",
     "text": [
      "Train/test class counts\n",
      "('Train ==> ', '\\n', 0    0.997534\n",
      "1    0.002466\n",
      "dtype: float64)\n",
      "('Test ==> ', '\\n', 0    0.997605\n",
      "1    0.002395\n",
      "dtype: float64)\n"
     ]
    }
   ],
   "source": [
    "splitPercentage = 0.8\n",
    "train, test = trainTestSplit(candidatesSub,splitPercentage)\n",
    "train.to_csv(\"/home/msmith/luna16/CSVFILES/candidatesTrain\"+str(splitPercentage)[2]+\".csv\",index=0)\n",
    "test.to_csv(\"/home/msmith/luna16/CSVFILES/candidatesTest\"+str(splitPercentage)[2]+\".csv\",index=0)"
   ]
  },
  {
   "cell_type": "code",
   "execution_count": 61,
   "metadata": {
    "collapsed": false
   },
   "outputs": [],
   "source": [
    "candidatesSub.loc[(candidatesSub.Class==1)].to_csv(\"/home/msmith/luna16/CSVFILES/candidatesClass1.csv\",index=0)"
   ]
  },
  {
   "cell_type": "markdown",
   "metadata": {},
   "source": [
    "## Display Image"
   ]
  },
  {
   "cell_type": "code",
   "execution_count": 6,
   "metadata": {
    "collapsed": false
   },
   "outputs": [
    {
     "ename": "KeyError",
     "evalue": "0",
     "output_type": "error",
     "traceback": [
      "\u001b[1;31m---------------------------------------------------------------------------\u001b[0m",
      "\u001b[1;31mKeyError\u001b[0m                                  Traceback (most recent call last)",
      "\u001b[1;32m<ipython-input-6-77f208fd9f76>\u001b[0m in \u001b[0;36m<module>\u001b[1;34m()\u001b[0m\n\u001b[0;32m      7\u001b[0m \u001b[1;31m#obs = data.iloc[0]\u001b[0m\u001b[1;33m\u001b[0m\u001b[1;33m\u001b[0m\u001b[0m\n\u001b[0;32m      8\u001b[0m \u001b[0mobs\u001b[0m \u001b[1;33m=\u001b[0m \u001b[0mdata\u001b[0m\u001b[1;33m\u001b[0m\u001b[0m\n\u001b[1;32m----> 9\u001b[1;33m \u001b[0mnvc\u001b[0m \u001b[1;33m=\u001b[0m \u001b[0mnp\u001b[0m\u001b[1;33m.\u001b[0m\u001b[0marray\u001b[0m\u001b[1;33m(\u001b[0m\u001b[1;33m[\u001b[0m\u001b[0mobs\u001b[0m\u001b[1;33m.\u001b[0m\u001b[0mz\u001b[0m\u001b[1;33m,\u001b[0m\u001b[0mobs\u001b[0m\u001b[1;33m.\u001b[0m\u001b[0my\u001b[0m\u001b[1;33m,\u001b[0m\u001b[0mobs\u001b[0m\u001b[1;33m.\u001b[0m\u001b[0mx\u001b[0m\u001b[1;33m]\u001b[0m\u001b[1;33m)\u001b[0m\u001b[1;33m.\u001b[0m\u001b[0mastype\u001b[0m\u001b[1;33m(\u001b[0m\u001b[0mint\u001b[0m\u001b[1;33m)\u001b[0m\u001b[1;33m\u001b[0m\u001b[0m\n\u001b[0m\u001b[0;32m     10\u001b[0m \u001b[1;33m\u001b[0m\u001b[0m\n\u001b[0;32m     11\u001b[0m \u001b[0mmhdPath\u001b[0m \u001b[1;33m=\u001b[0m \u001b[0mobs\u001b[0m\u001b[1;33m.\u001b[0m\u001b[0mseriesuidFullPath\u001b[0m\u001b[1;33m.\u001b[0m\u001b[0mreplace\u001b[0m\u001b[1;33m(\u001b[0m\u001b[1;34m\".raw\"\u001b[0m\u001b[1;33m,\u001b[0m\u001b[1;34m\".mhd\"\u001b[0m\u001b[1;33m)\u001b[0m\u001b[1;33m\u001b[0m\u001b[0m\n",
      "\u001b[1;32m/usr/local/lib/python2.7/dist-packages/pandas/core/series.pyc\u001b[0m in \u001b[0;36m__getitem__\u001b[1;34m(self, key)\u001b[0m\n\u001b[0;32m    507\u001b[0m     \u001b[1;32mdef\u001b[0m \u001b[0m__getitem__\u001b[0m\u001b[1;33m(\u001b[0m\u001b[0mself\u001b[0m\u001b[1;33m,\u001b[0m \u001b[0mkey\u001b[0m\u001b[1;33m)\u001b[0m\u001b[1;33m:\u001b[0m\u001b[1;33m\u001b[0m\u001b[0m\n\u001b[0;32m    508\u001b[0m         \u001b[1;32mtry\u001b[0m\u001b[1;33m:\u001b[0m\u001b[1;33m\u001b[0m\u001b[0m\n\u001b[1;32m--> 509\u001b[1;33m             \u001b[0mresult\u001b[0m \u001b[1;33m=\u001b[0m \u001b[0mself\u001b[0m\u001b[1;33m.\u001b[0m\u001b[0mindex\u001b[0m\u001b[1;33m.\u001b[0m\u001b[0mget_value\u001b[0m\u001b[1;33m(\u001b[0m\u001b[0mself\u001b[0m\u001b[1;33m,\u001b[0m \u001b[0mkey\u001b[0m\u001b[1;33m)\u001b[0m\u001b[1;33m\u001b[0m\u001b[0m\n\u001b[0m\u001b[0;32m    510\u001b[0m \u001b[1;33m\u001b[0m\u001b[0m\n\u001b[0;32m    511\u001b[0m             \u001b[1;32mif\u001b[0m \u001b[1;32mnot\u001b[0m \u001b[0mnp\u001b[0m\u001b[1;33m.\u001b[0m\u001b[0misscalar\u001b[0m\u001b[1;33m(\u001b[0m\u001b[0mresult\u001b[0m\u001b[1;33m)\u001b[0m\u001b[1;33m:\u001b[0m\u001b[1;33m\u001b[0m\u001b[0m\n",
      "\u001b[1;32m/usr/local/lib/python2.7/dist-packages/pandas/core/index.pyc\u001b[0m in \u001b[0;36mget_value\u001b[1;34m(self, series, key)\u001b[0m\n\u001b[0;32m   1415\u001b[0m \u001b[1;33m\u001b[0m\u001b[0m\n\u001b[0;32m   1416\u001b[0m         \u001b[1;32mtry\u001b[0m\u001b[1;33m:\u001b[0m\u001b[1;33m\u001b[0m\u001b[0m\n\u001b[1;32m-> 1417\u001b[1;33m             \u001b[1;32mreturn\u001b[0m \u001b[0mself\u001b[0m\u001b[1;33m.\u001b[0m\u001b[0m_engine\u001b[0m\u001b[1;33m.\u001b[0m\u001b[0mget_value\u001b[0m\u001b[1;33m(\u001b[0m\u001b[0ms\u001b[0m\u001b[1;33m,\u001b[0m \u001b[0mk\u001b[0m\u001b[1;33m)\u001b[0m\u001b[1;33m\u001b[0m\u001b[0m\n\u001b[0m\u001b[0;32m   1418\u001b[0m         \u001b[1;32mexcept\u001b[0m \u001b[0mKeyError\u001b[0m \u001b[1;32mas\u001b[0m \u001b[0me1\u001b[0m\u001b[1;33m:\u001b[0m\u001b[1;33m\u001b[0m\u001b[0m\n\u001b[0;32m   1419\u001b[0m             \u001b[1;32mif\u001b[0m \u001b[0mlen\u001b[0m\u001b[1;33m(\u001b[0m\u001b[0mself\u001b[0m\u001b[1;33m)\u001b[0m \u001b[1;33m>\u001b[0m \u001b[1;36m0\u001b[0m \u001b[1;32mand\u001b[0m \u001b[0mself\u001b[0m\u001b[1;33m.\u001b[0m\u001b[0minferred_type\u001b[0m \u001b[1;32min\u001b[0m \u001b[1;33m[\u001b[0m\u001b[1;34m'integer'\u001b[0m\u001b[1;33m,\u001b[0m\u001b[1;34m'boolean'\u001b[0m\u001b[1;33m]\u001b[0m\u001b[1;33m:\u001b[0m\u001b[1;33m\u001b[0m\u001b[0m\n",
      "\u001b[1;32mpandas/index.pyx\u001b[0m in \u001b[0;36mpandas.index.IndexEngine.get_value (pandas/index.c:3097)\u001b[1;34m()\u001b[0m\n",
      "\u001b[1;32mpandas/index.pyx\u001b[0m in \u001b[0;36mpandas.index.IndexEngine.get_value (pandas/index.c:2826)\u001b[1;34m()\u001b[0m\n",
      "\u001b[1;32mpandas/index.pyx\u001b[0m in \u001b[0;36mpandas.index.IndexEngine.get_loc (pandas/index.c:3692)\u001b[1;34m()\u001b[0m\n",
      "\u001b[1;32mpandas/hashtable.pyx\u001b[0m in \u001b[0;36mpandas.hashtable.Int64HashTable.get_item (pandas/hashtable.c:7201)\u001b[1;34m()\u001b[0m\n",
      "\u001b[1;32mpandas/hashtable.pyx\u001b[0m in \u001b[0;36mpandas.hashtable.Int64HashTable.get_item (pandas/hashtable.c:7139)\u001b[1;34m()\u001b[0m\n",
      "\u001b[1;31mKeyError\u001b[0m: 0"
     ]
    }
   ],
   "source": [
    "#Get a range in which to subset the data\n",
    "#data = candidatesSub\n",
    "data = candidatesSub.loc[(candidates.Class==1)] # Looking at confirmed nodules\n",
    "keep = np.random.randint(0,data.shape[0],1)\n",
    "#keep = 11105\n",
    "data = data.iloc[keep]\n",
    "#obs = data.iloc[0]\n",
    "obs = data\n",
    "nvc = np.array([obs.z,obs.y,obs.x]).astype(int)\n",
    "\n",
    "mhdPath = obs.seriesuidFullPath.replace(\".raw\",\".mhd\")\n",
    "itkimage = sitk.ReadImage(mhdPath)\n",
    "img = sitk.GetArrayFromImage(itkimage)\n",
    "\n",
    "margin = 50\n",
    "nvcMinus,nvcPlus = (nvc - margin).astype(int), (nvc + margin).astype(int)\n",
    "def printNoduleInfo():\n",
    "    print(\"obs =\", obs)\n",
    "    print(\"Image shape ==>\" + \"\\n\" + str(img.shape))\n",
    "    print(\"Nodule coordinates @\"+\"\\n\" + str(nvc))\n",
    "    print(\"NVC margins ==>\" + \"\\n\" + str(nvcMinus) + \"\\n\" + str(nvcPlus))\n",
    "printNoduleInfo()\n",
    "\n",
    "from matplotlib.patches import Rectangle\n",
    "rectangle = plt.Rectangle((nvcMinus[2], nvcMinus[1]),margin*2 ,margin*2, facecolor = 'none', ec='r')\n",
    "circle = plt.Circle((nvc[2],nvc[1]),10, facecolor = 'none', ec='r')\n",
    "plt.gca().add_patch(rectangle)\n",
    "plt.gca().add_patch(circle)\n",
    "plt.imshow(img[nvc[0]],cmap=cm.gray)\n",
    "plt.show()\n",
    "\n",
    "for i in xrange(nvc[0]-2,nvc[0]+2,1):\n",
    "    if i == nvc[0]:\n",
    "        print(\"Nodule located here\")\n",
    "    print(i)\n",
    "    plt.imshow(img[i,nvcMinus[1]:nvcPlus[1],nvcMinus[2]:nvcPlus[2]],cmap=cm.gray)\n",
    "    plt.show()"
   ]
  },
  {
   "cell_type": "code",
   "execution_count": null,
   "metadata": {
    "collapsed": true
   },
   "outputs": [],
   "source": []
  }
 ],
 "metadata": {
  "kernelspec": {
   "display_name": "Python 2",
   "language": "python",
   "name": "python2"
  },
  "language_info": {
   "codemirror_mode": {
    "name": "ipython",
    "version": 2
   },
   "file_extension": ".py",
   "mimetype": "text/x-python",
   "name": "python",
   "nbconvert_exporter": "python",
   "pygments_lexer": "ipython2",
   "version": "2.7.6"
  }
 },
 "nbformat": 4,
 "nbformat_minor": 0
}
